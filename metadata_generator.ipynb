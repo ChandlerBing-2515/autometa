{
 "cells": [
  {
   "cell_type": "markdown",
   "id": "7acc0e45",
   "metadata": {},
   "source": [
    "📄 Automated Metadata Generation System\n",
    "\n",
    "## 🎯 Objective\n",
    "This notebook demonstrates an automated system to extract meaningful metadata from documents such as PDFs, DOCX files, and TXT files.\n",
    "\n",
    "It includes:\n",
    "- Text extraction from different file formats\n",
    "- Basic semantic processing (top keywords, word count)\n",
    "- Metadata generation and preview"
   ]
  },
  {
   "cell_type": "code",
   "execution_count": 33,
   "id": "0dc93bbe",
   "metadata": {},
   "outputs": [],
   "source": [
    "import fitz  # PyMuPDF for PDFs\n",
    "import docx  # python-docx for DOCX\n",
    "import pandas as pd\n",
    "import os"
   ]
  },
  {
   "cell_type": "code",
   "execution_count": 34,
   "id": "1eb02fca",
   "metadata": {},
   "outputs": [
    {
     "name": "stdout",
     "output_type": "stream",
     "text": [
      "c:\\Users\\HP\\Muskan\\.venv\\Scripts\\python.exe\n"
     ]
    }
   ],
   "source": [
    "import sys\n",
    "print(sys.executable)\n",
    "\n"
   ]
  },
  {
   "cell_type": "markdown",
   "id": "5b28a22b",
   "metadata": {},
   "source": [
    "## 🛠️ Helper Functions\n",
    "\n",
    "We'll define the following functions:\n",
    "- `extract_pdf_text(filepath)` - Extracts text from PDF using PyMuPDF\n",
    "- `extract_docx_text(filepath)` - Extracts text from Word document\n",
    "- `extract_txt_text(filepath)` - Extracts plain text\n",
    "- `generate_metadata(text)` - Generates semantic metadata from text\n"
   ]
  },
  {
   "cell_type": "code",
   "execution_count": 35,
   "id": "e1ebe711",
   "metadata": {},
   "outputs": [],
   "source": [
    "def extract_pdf_text(filepath):\n",
    "    with fitz.open(filepath) as doc:\n",
    "        return \"\".join([page.get_text() for page in doc])\n",
    "\n",
    "def extract_docx_text(filepath):\n",
    "    doc = docx.Document(filepath)\n",
    "    return \"\\n\".join([para.text for para in doc.paragraphs])\n",
    "\n",
    "def extract_txt_text(filepath):\n",
    "    with open(filepath, \"r\", encoding=\"utf-8\") as f:\n",
    "        return f.read()\n",
    "\n",
    "def generate_metadata(text):\n",
    "    words = text.split()\n",
    "    word_freq = pd.Series(words).value_counts().head(5)\n",
    "    metadata = {\n",
    "        \"Title\": words[0] if words else \"N/A\",\n",
    "        \"Top Keywords\": ', '.join(word_freq.index),\n",
    "        \"Word Count\": len(words),\n",
    "        \"Preview\": ' '.join(words[:40])\n",
    "    }\n",
    "    return metadata\n"
   ]
  },
  {
   "cell_type": "markdown",
   "id": "570a9cf3",
   "metadata": {},
   "source": [
    "## 📂 Select a File for Testing\n",
    "\n",
    "Upload or select a document from the `sample_docs` folder.\n"
   ]
  },
  {
   "cell_type": "code",
   "execution_count": 36,
   "id": "4be7f251",
   "metadata": {},
   "outputs": [
    {
     "name": "stdout",
     "output_type": "stream",
     "text": [
      "✅ Text Extracted!\n",
      "The Role of Artificial Intelligence in Modern Healthcare\n",
      "Artificial Intelligence (AI) is revolutionizing healthcare by enabling faster diagnosis, improved patient\n",
      "monitoring, and efficient drug development. The integration of AI in clinical systems helps reduce\n",
      "human error and optimize treatment plans.\n",
      "Machine learning models are now capable of analyzing medical images, predicting patient\n",
      "deterioration, and offering personalized treatment recommendations. This technology represents a\n",
      "leap forwar\n"
     ]
    }
   ],
   "source": [
    "# Choose a test file\n",
    "filepath = \"sample_docs/sample1.pdf\"  # change to .docx or .txt for other formats\n",
    "ext = filepath.split('.')[-1].lower()\n",
    "\n",
    "# Extract text based on file type\n",
    "if ext == \"pdf\":\n",
    "    text = extract_pdf_text(filepath)\n",
    "elif ext == \"docx\":\n",
    "    text = extract_docx_text(filepath)\n",
    "elif ext == \"txt\":\n",
    "    text = extract_txt_text(filepath)\n",
    "else:\n",
    "    text = \"\"\n",
    "\n",
    "print(\"✅ Text Extracted!\")\n",
    "print(text[:500])  # preview\n"
   ]
  },
  {
   "cell_type": "markdown",
   "id": "d40e747b",
   "metadata": {},
   "source": [
    "## 📋 Generate Metadata from Extracted Text"
   ]
  },
  {
   "cell_type": "code",
   "execution_count": 37,
   "id": "88121130",
   "metadata": {},
   "outputs": [
    {
     "name": "stdout",
     "output_type": "stream",
     "text": [
      "📄 Metadata:\n",
      "Title: The\n",
      "Top Keywords: of, in, and, Intelligence, Artificial\n",
      "Word Count: 67\n",
      "Preview: The Role of Artificial Intelligence in Modern Healthcare Artificial Intelligence (AI) is revolutionizing healthcare by enabling faster diagnosis, improved patient monitoring, and efficient drug development. The integration of AI in clinical systems helps reduce human error and optimize treatment plans.\n"
     ]
    }
   ],
   "source": [
    "if text:\n",
    "    metadata = generate_metadata(text)\n",
    "    print(\"📄 Metadata:\")\n",
    "    for k, v in metadata.items():\n",
    "        print(f\"{k}: {v}\")\n",
    "else:\n",
    "    print(\"❌ No text found or unsupported format.\")\n"
   ]
  },
  {
   "cell_type": "markdown",
   "id": "b3e2969a",
   "metadata": {},
   "source": [
    "## 💾 Export Metadata as CSV "
   ]
  },
  {
   "cell_type": "code",
   "execution_count": 38,
   "id": "e65af01a",
   "metadata": {},
   "outputs": [
    {
     "name": "stdout",
     "output_type": "stream",
     "text": [
      "📁 Metadata saved to 'generated_metadata.csv'\n"
     ]
    }
   ],
   "source": [
    "df = pd.DataFrame([metadata])\n",
    "df.to_csv(\"generated_metadata.csv\", index=False)\n",
    "print(\"📁 Metadata saved to 'generated_metadata.csv'\")\n"
   ]
  },
  {
   "cell_type": "markdown",
   "id": "5e1aced5",
   "metadata": {},
   "source": [
    "## ✅ Summary\n",
    "\n",
    "We successfully:\n",
    "- Extracted text from PDF, DOCX, and TXT files\n",
    "- Generated semantic metadata\n",
    "- Exported the metadata for further use\n"
   ]
  }
 ],
 "metadata": {
  "kernelspec": {
   "display_name": ".venv",
   "language": "python",
   "name": "python3"
  },
  "language_info": {
   "codemirror_mode": {
    "name": "ipython",
    "version": 3
   },
   "file_extension": ".py",
   "mimetype": "text/x-python",
   "name": "python",
   "nbconvert_exporter": "python",
   "pygments_lexer": "ipython3",
   "version": "3.13.5"
  }
 },
 "nbformat": 4,
 "nbformat_minor": 5
}
